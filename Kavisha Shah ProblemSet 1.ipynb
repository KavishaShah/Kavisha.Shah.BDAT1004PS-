{
 "cells": [
  {
   "cell_type": "markdown",
   "id": "5fd51b23",
   "metadata": {},
   "source": [
    "# C#"
   ]
  },
  {
   "cell_type": "markdown",
   "id": "aa2ecf9c",
   "metadata": {},
   "source": [
    "# Question 1 "
   ]
  },
  {
   "cell_type": "code",
   "execution_count": null,
   "id": "a31e5879",
   "metadata": {},
   "outputs": [],
   "source": [
    " 5         Integer\n",
    " 5.0       Double\n",
    " 5 > 1     Boolean\n",
    "'5'        Character \n",
    " 5 * 2     Integer \n",
    "'5' * 2    Integer\n",
    "'5' + '2'  Integer\n",
    " 5 / 2     Integer\n",
    " 5 % 2     Integer\n",
    "{5, 2, 1}  Integer array (same elements)\n",
    " 5 == 3    Boolean \n",
    " Pi (the number) Double"
   ]
  },
  {
   "cell_type": "markdown",
   "id": "41c401c7",
   "metadata": {},
   "source": [
    "# Question 2"
   ]
  },
  {
   "cell_type": "markdown",
   "id": "f4d5daaa",
   "metadata": {},
   "source": [
    "# 2(a) How many letters are there in 'Supercalifragilisticexpialidocious'?"
   ]
  },
  {
   "cell_type": "code",
   "execution_count": 1,
   "id": "2735a82e",
   "metadata": {},
   "outputs": [
    {
     "data": {
      "text/html": [
       "\r\n",
       "<div>\r\n",
       "    <div id='dotnet-interactive-this-cell-3884.Microsoft.DotNet.Interactive.Http.HttpPort' style='display: none'>\r\n",
       "        The below script needs to be able to find the current output cell; this is an easy method to get it.\r\n",
       "    </div>\r\n",
       "    <script type='text/javascript'>\r\n",
       "async function probeAddresses(probingAddresses) {\r\n",
       "    function timeout(ms, promise) {\r\n",
       "        return new Promise(function (resolve, reject) {\r\n",
       "            setTimeout(function () {\r\n",
       "                reject(new Error('timeout'))\r\n",
       "            }, ms)\r\n",
       "            promise.then(resolve, reject)\r\n",
       "        })\r\n",
       "    }\r\n",
       "\r\n",
       "    if (Array.isArray(probingAddresses)) {\r\n",
       "        for (let i = 0; i < probingAddresses.length; i++) {\r\n",
       "\r\n",
       "            let rootUrl = probingAddresses[i];\r\n",
       "\r\n",
       "            if (!rootUrl.endsWith('/')) {\r\n",
       "                rootUrl = `${rootUrl}/`;\r\n",
       "            }\r\n",
       "\r\n",
       "            try {\r\n",
       "                let response = await timeout(1000, fetch(`${rootUrl}discovery`, {\r\n",
       "                    method: 'POST',\r\n",
       "                    cache: 'no-cache',\r\n",
       "                    mode: 'cors',\r\n",
       "                    timeout: 1000,\r\n",
       "                    headers: {\r\n",
       "                        'Content-Type': 'text/plain'\r\n",
       "                    },\r\n",
       "                    body: probingAddresses[i]\r\n",
       "                }));\r\n",
       "\r\n",
       "                if (response.status == 200) {\r\n",
       "                    return rootUrl;\r\n",
       "                }\r\n",
       "            }\r\n",
       "            catch (e) { }\r\n",
       "        }\r\n",
       "    }\r\n",
       "}\r\n",
       "\r\n",
       "function loadDotnetInteractiveApi() {\r\n",
       "    probeAddresses([\"http://192.168.0.105:1000/\", \"http://127.0.0.1:1000/\"])\r\n",
       "        .then((root) => {\r\n",
       "        // use probing to find host url and api resources\r\n",
       "        // load interactive helpers and language services\r\n",
       "        let dotnetInteractiveRequire = require.config({\r\n",
       "        context: '3884.Microsoft.DotNet.Interactive.Http.HttpPort',\r\n",
       "                paths:\r\n",
       "            {\r\n",
       "                'dotnet-interactive': `${root}resources`\r\n",
       "                }\r\n",
       "        }) || require;\r\n",
       "\r\n",
       "            window.dotnetInteractiveRequire = dotnetInteractiveRequire;\r\n",
       "\r\n",
       "            window.configureRequireFromExtension = function(extensionName, extensionCacheBuster) {\r\n",
       "                let paths = {};\r\n",
       "                paths[extensionName] = `${root}extensions/${extensionName}/resources/`;\r\n",
       "                \r\n",
       "                let internalRequire = require.config({\r\n",
       "                    context: extensionCacheBuster,\r\n",
       "                    paths: paths,\r\n",
       "                    urlArgs: `cacheBuster=${extensionCacheBuster}`\r\n",
       "                    }) || require;\r\n",
       "\r\n",
       "                return internalRequire\r\n",
       "            };\r\n",
       "        \r\n",
       "            dotnetInteractiveRequire([\r\n",
       "                    'dotnet-interactive/dotnet-interactive'\r\n",
       "                ],\r\n",
       "                function (dotnet) {\r\n",
       "                    dotnet.init(window);\r\n",
       "                },\r\n",
       "                function (error) {\r\n",
       "                    console.log(error);\r\n",
       "                }\r\n",
       "            );\r\n",
       "        })\r\n",
       "        .catch(error => {console.log(error);});\r\n",
       "    }\r\n",
       "\r\n",
       "// ensure `require` is available globally\r\n",
       "if ((typeof(require) !==  typeof(Function)) || (typeof(require.config) !== typeof(Function))) {\r\n",
       "    let require_script = document.createElement('script');\r\n",
       "    require_script.setAttribute('src', 'https://cdnjs.cloudflare.com/ajax/libs/require.js/2.3.6/require.min.js');\r\n",
       "    require_script.setAttribute('type', 'text/javascript');\r\n",
       "    \r\n",
       "    \r\n",
       "    require_script.onload = function() {\r\n",
       "        loadDotnetInteractiveApi();\r\n",
       "    };\r\n",
       "\r\n",
       "    document.getElementsByTagName('head')[0].appendChild(require_script);\r\n",
       "}\r\n",
       "else {\r\n",
       "    loadDotnetInteractiveApi();\r\n",
       "}\r\n",
       "\r\n",
       "    </script>\r\n",
       "</div>"
      ]
     },
     "metadata": {},
     "output_type": "display_data"
    },
    {
     "name": "stdout",
     "output_type": "stream",
     "text": [
      "Length of the given string: 34\r\n"
     ]
    }
   ],
   "source": [
    "string name= \"Supercalifragilisticexpialidocious\";\n",
    "int length= name.Length;\n",
    "Console.WriteLine(\"Length of the given string: \"+length)"
   ]
  },
  {
   "cell_type": "markdown",
   "id": "b35cd652",
   "metadata": {},
   "source": [
    "# 2(b) Does 'Supercalifragilisticexpialidocious' contain 'ice' as a substring?"
   ]
  },
  {
   "cell_type": "code",
   "execution_count": 2,
   "id": "279c9e53",
   "metadata": {},
   "outputs": [
    {
     "name": "stdout",
     "output_type": "stream",
     "text": [
      "It contains 'ice' as a substring!\r\n"
     ]
    }
   ],
   "source": [
    "string name = \"Supercalifragilisticexpialidocious\";\n",
    "bool flag = name.Contains(\"ice\");\n",
    "if (flag == false) {                        // based on the flag, it will print the answer  \n",
    "    Console.WriteLine(\"It doesn't contain 'ice' as a substring\");\n",
    "} else {\n",
    "    Console.WriteLine(\"It contains 'ice' as a substring!\");\n",
    "}"
   ]
  },
  {
   "cell_type": "markdown",
   "id": "7d2decdb",
   "metadata": {},
   "source": [
    "# 2 (c) Which of the following words is the longest: Supercalifragilisticexpialidocious, Honorificabilitudinitatibus, or Bababadalgharaghtakamminarronnkonn?"
   ]
  },
  {
   "cell_type": "code",
   "execution_count": 4,
   "id": "48fe52ce",
   "metadata": {},
   "outputs": [
    {
     "name": "stdout",
     "output_type": "stream",
     "text": [
      "Longest word is/are 2 \n",
      "Supercalifragilisticexpialidocious\n",
      "Bababadalgharaghtakamminarronnkonn\n"
     ]
    }
   ],
   "source": [
    "string[] words = {                      \n",
    "    \"Supercalifragilisticexpialidocious\",\n",
    "    \"Honorificabilitudinitatibus\",\n",
    "    \"Bababadalgharaghtakamminarronnkonn\"\n",
    "};\n",
    "string word = \"\";\n",
    "int WordLength = 0;\n",
    "List < string > longerWords = new List < string > ();\n",
    "String[] str;\n",
    "foreach(string s in words) {                 //foreach loop for checking the length of every word\n",
    "    if (s.Length >= WordLength) {\n",
    "        word = s;\n",
    "        WordLength = s.Length;\n",
    "        longerWords.Add(word);              //adding those words in a list \n",
    "        //str = longerWords.ToArray();\n",
    "    }\n",
    "}\n",
    "Console.WriteLine($\"Longest word is/are {longerWords.Count} \");  //Count of largest words\n",
    "foreach(string s in longerWords){       // for each loop for printing those words\n",
    "    Console.WriteLine(s);\n",
    "}"
   ]
  },
  {
   "cell_type": "markdown",
   "id": "ebe18383",
   "metadata": {},
   "source": [
    "# 2(d) Which composer comes first in the dictionary: 'Berlioz', 'Borodin', 'Brian', 'Bartok', 'Bellini', 'Buxtehude', 'Bernstein'. Which one comes last?"
   ]
  },
  {
   "cell_type": "code",
   "execution_count": 5,
   "id": "feb99773",
   "metadata": {},
   "outputs": [
    {
     "name": "stdout",
     "output_type": "stream",
     "text": [
      "Sorted by Composer Name\n",
      "=======================\n",
      "Key: Bartok, Value: 4\n",
      "Key: Bellini, Value: 5\n",
      "Key: Berlioz, Value: 1\n",
      "Key: Bernsteinl, Value: 7\n",
      "Key: Borodin, Value: 2\n",
      "Key: Brian, Value: 3\n",
      "Key: Buxtehude, Value: 6\n",
      "\n",
      "First Composer : Bartok,\n",
      "Last Composer : Buxtehude\n",
      "\n",
      "First Composer : [Bartok, 4],\n",
      "Last Composer : [Buxtehude, 6]\n",
      "\n",
      "By Second Method using sorted set\n",
      "\n",
      "First Composer : Bartok,\n",
      "Last Composer : Buxtehude\n"
     ]
    }
   ],
   "source": [
    "// Create a dictionary with Key value pair of string and int\n",
    " Dictionary < string, Int16 > ComposerList = new Dictionary < string, Int16 > ();  \n",
    " ComposerList.Add(\"Berlioz\", 1);\n",
    " ComposerList.Add(\"Borodin\", 2);\n",
    " ComposerList.Add(\"Brian\", 3);\n",
    " ComposerList.Add(\"Bartok\", 4);\n",
    " ComposerList.Add(\"Bellini\", 5);\n",
    " ComposerList.Add(\"Buxtehude\", 6);\n",
    " ComposerList.Add(\"Bernsteinl\", 7);\n",
    "\n",
    " Dictionary < string, Int16 > SortedComposerList = new Dictionary < string, Int16 > ();   // Making another dictionary for sorted ones\n",
    " List < string > SortedComposers = new List < string > ();\n",
    " Console.WriteLine(\"Sorted by Composer Name\");\n",
    " Console.WriteLine(\"=======================\");\n",
    " // for each loop for sorting the composer names on the basis of a key from  dictionary\n",
    " foreach(KeyValuePair < string, Int16 > author in ComposerList.OrderBy(key => key.Key)) { \n",
    "     Console.WriteLine(\"Key: {0}, Value: {1}\", author.Key, author.Value);\n",
    "     SortedComposerList.Add(author.Key, author.Value);\n",
    "     SortedComposers.Add(author.Key);\n",
    " }\n",
    " Console.WriteLine(\"\\nFirst Composer : {0},\\nLast Composer : {1}\", SortedComposers.First(), SortedComposers.Last()); \n",
    " Console.WriteLine(\"\\nFirst Composer : {0},\\nLast Composer : {1}\", SortedComposerList.First(), SortedComposerList.Last());\n",
    " \n",
    "Console.WriteLine($\"\\nBy Second Method using sorted set\");\n",
    "\n",
    "SortedSet<string> composerList = new SortedSet<string>();\n",
    "composerList.Add(\"Berlioz\");\n",
    "composerList.Add(\"Borodin\");\n",
    "composerList.Add(\"Brian\");\n",
    "composerList.Add(\"Bartok\");\n",
    "composerList.Add(\"Bellini\");\n",
    "composerList.Add(\"Buxtehude\");\n",
    "composerList.Add(\"Bernsteinl\");\n",
    "\n",
    "  foreach(var val in composerList)\n",
    "        {\n",
    "           // Console.WriteLine(val);\n",
    "        }\n",
    "\n",
    "Console.WriteLine(\"\\nFirst Composer : {0},\\nLast Composer : {1}\", composerList.First(), composerList.Last());"
   ]
  },
  {
   "cell_type": "markdown",
   "id": "9e4bfd45",
   "metadata": {},
   "source": [
    "# Question 3\n",
    "Implement function triangleArea(a,b,c) that takes as input the lengths of the 3\n",
    "sides of a triangle and returns the area of the triangle. By Heron's formula, the area \n",
    "of a triangle with side lengths a, b, and c is\n",
    "s(s - a)(s -b)(s -c)\n",
    ", where \n",
    "s = (a+b+c)/2. "
   ]
  },
  {
   "cell_type": "code",
   "execution_count": 6,
   "id": "40728934",
   "metadata": {},
   "outputs": [
    {
     "name": "stdout",
     "output_type": "stream",
     "text": [
      "Area of Triangle : 1.7320508075688772\r\n"
     ]
    }
   ],
   "source": [
    "public static double triangleArea(int a, int b, int c) {\n",
    "    double s = (a + b + c) / 2;\n",
    "    double area = Math.Sqrt(s * (s - a) *\n",
    "        (s - b) * (s - c));\n",
    "    return area;\n",
    "}\n",
    "double area = triangleArea(2, 2, 2);\n",
    "Console.WriteLine($\"Area of Triangle : {area}\")"
   ]
  },
  {
   "cell_type": "markdown",
   "id": "ee724117",
   "metadata": {},
   "source": [
    "# Question 4\n",
    "Write a program in C# Sharp to separate odd and even integers in separate arrays. "
   ]
  },
  {
   "cell_type": "code",
   "execution_count": null,
   "id": "a1e374f5",
   "metadata": {},
   "outputs": [],
   "source": [
    "// I have done this question in visual studio as jupyter doesn't support ReadLine in C#, \n",
    "// Kindly find the attached screenshot of output of console in the next cell.\n",
    "\n",
    "Console.Write(\"Input the number of elements to be stored in the array :\");\n",
    "int inpt = Convert.ToInt32(Console.ReadLine());\n",
    "int[] arr = new int[inpt];\n",
    "int[] EvenArr;\n",
    "int[] OddArr;\n",
    "List < int > EvenNos = new List < int > ();\n",
    "List < int > OddNos = new List < int > ();\n",
    "Console.WriteLine($\"Input {inpt} elements in the array :\");\n",
    "for (int i = 0; i < 5; i++) {\n",
    "    Console.Write(\"element - {0} : \", i);         \n",
    "    arr[i] = Convert.ToInt32(Console.ReadLine());  // reading inputs from a console\n",
    "}\n",
    "\n",
    "for (int i = 0; i < 5; i++) {\n",
    "    //Console.Write(\"{0}  \", arr[i]);\n",
    "    if (arr[i] % 2 == 0) {       // separating numbers in 2 different arrays on basis of even and odd\n",
    "        EvenNos.Add(arr[i]);\n",
    "        EvenArr = EvenNos.ToArray();\n",
    "    } else {\n",
    "        OddNos.Add(arr[i]);\n",
    "        OddArr = OddNos.ToArray();\n",
    "    }\n",
    "}\n",
    "\n",
    "Console.WriteLine(\"\\nThe Even elements are:\");\n",
    "\n",
    "foreach(int i in EvenNos) {        // printing even nos.\n",
    "    Console.Write($\"{i}\\t\");\n",
    "}\n",
    "\n",
    "Console.WriteLine(\"\\nThe Odd elements are:\");\n",
    "foreach(int i in OddNos) {         // printing odd nos.\n",
    "    Console.Write($\"{i}\\t\");\n",
    "}\n",
    "Console.WriteLine(\"\\n\");"
   ]
  },
  {
   "attachments": {
    "ks.png": {
     "image/png": "[encoded data removed]"
    }
   },
   "cell_type": "markdown",
   "id": "d83df9b7",
   "metadata": {},
   "source": [
    "![ks.png](attachment:ks.png)"
   ]
  },
  {
   "cell_type": "markdown",
   "id": "8f9d592b",
   "metadata": {},
   "source": [
    "# Question 5 \n"
   ]
  },
  {
   "cell_type": "markdown",
   "id": "89cdc516",
   "metadata": {},
   "source": [
    "# 5(a)  Write a function inside(x,y,x1,y1,x2,y2) that returns True or False depending on whether the point (x,y) lies in the rectangle with lower left corner (x1,y1) and upper right corner (x2,y2)."
   ]
  },
  {
   "cell_type": "markdown",
   "id": "e1dae10c",
   "metadata": {},
   "source": [
    "# 5(b) Use function inside() from part a. to write an expression that tests whether the point (1,1) lies in both of the following rectangles: one with lower left corner (0.3, 0.5) and upper right corner (1.1, 0.7) and the other with lower left corner (0.5, 0.2) and upper right corner (1.1, 2"
   ]
  },
  {
   "cell_type": "code",
   "execution_count": 8,
   "id": "6c804555",
   "metadata": {},
   "outputs": [
    {
     "name": "stdout",
     "output_type": "stream",
     "text": [
      "----------a.--------\n",
      "\n",
      "inside(1,1,0,0,2,3):True\n",
      "inside(-1,-1,0,0,2,3):False\n",
      "\n",
      "----------b.--------\n",
      "\n",
      "The point (1,1) doesn't lie in both of the following rectangles\n",
      "\n",
      "inside(1,1,0.3,0.5,1.1,0.7):False\n",
      "inside(1,1,0.5,0.2,1.1,2):True\n"
     ]
    }
   ],
   "source": [
    "public static bool inside(double x, double y, double x1, double y1, double x2, double y2) {\n",
    "    // points - x,y, lower left corner - x1,y1, upper right corner - x2,y2.   \n",
    "\n",
    "    if (x > x1 && x < x2 &&\n",
    "        y > y1 && y < y2)\n",
    "        return true;\n",
    "\n",
    "    return false;\n",
    "}\n",
    "\n",
    "Console.WriteLine(\"----------a.--------\\n\");\n",
    "Console.WriteLine($\"inside(1,1,0,0,2,3):{inside(1,1,0,0,2,3)}\");\n",
    "Console.WriteLine($\"inside(-1,-1,0,0,2,3):{inside(-1,-1,0,0,2,3)}\\n\");\n",
    "Console.WriteLine(\"----------b.--------\\n\");\n",
    "\n",
    "// if execution of both of the rectangles come true then it lies in both of them.\n",
    "\n",
    "if(inside(1,1,0.3,0.5,1.1,0.7) && inside(1,1,0.5,0.2,1.1,2)){\n",
    "    Console.WriteLine(\"the point (1,1) lies in both of the following rectangles\");\n",
    "}\n",
    "else{\n",
    "    Console.WriteLine(\"The point (1,1) doesn't lie in both of the following rectangles\");\n",
    "}\n",
    "Console.WriteLine($\"\\ninside(1,1,0.3,0.5,1.1,0.7):{inside(1,1,0.3,0.5,1.1,0.7)}\");\n",
    "Console.WriteLine($\"inside(1,1,0.5,0.2,1.1,2):{inside(1,1,0.5,0.2,1.1,2)}\");"
   ]
  },
  {
   "cell_type": "markdown",
   "id": "f9c9a890",
   "metadata": {},
   "source": [
    "# Question 6\n",
    "You can turn a word into pig-Latin using the following two rules (simplified):\n",
    "• If the word starts with a consonant, move that letter to the end and append \n",
    "'ay'. For example, 'happy' becomes 'appyhay' and 'pencil' becomes 'encilpay'.\n",
    "• If the word starts with a vowel, simply append 'way' to the end of the word. \n",
    "For example, 'enter' becomes 'enterway' and 'other' becomes 'otherway' . For \n",
    "our purposes, there are 5 vowels: a, e, i, o, u (so we count y as a consonant).\n",
    "Write a function pig() that takes a word (i.e., a string) as input and returns its pig\u0002Latin form. Your function should still work if the input word contains upper case \n",
    "characters. Your output should always be lower case however. "
   ]
  },
  {
   "cell_type": "code",
   "execution_count": 1,
   "id": "1acbc114",
   "metadata": {},
   "outputs": [
    {
     "name": "stdout",
     "output_type": "stream",
     "text": [
      "appyhay\n",
      "enterway\n"
     ]
    }
   ],
   "source": [
    "vow=('a','e','i','o','u') \n",
    "def pig(word):\n",
    "    if(word[0].lower() in vow):  #checking for vowels in first letter\n",
    "        print(word.lower()+'way')\n",
    "    else:\n",
    "        print(word[1:].lower()+word[0].lower()+'ay') \n",
    "pig('happy')\n",
    "pig('Enter')"
   ]
  },
  {
   "cell_type": "markdown",
   "id": "68a86d58",
   "metadata": {},
   "source": [
    "# Question 7\n",
    "File bloodtype1.txt records blood-types of patients (A, B, AB, O or OO) at a clinic. \n",
    "Write a function bldcount() that reads the file with name name and reports (i.e., \n",
    "prints) how many patients there are in each bloodtype"
   ]
  },
  {
   "cell_type": "code",
   "execution_count": 9,
   "id": "5c12c9e8",
   "metadata": {},
   "outputs": [
    {
     "name": "stdout",
     "output_type": "stream",
     "text": [
      "There are 10 patients of blood type A.\n",
      "There is one patient of blood type B.\n",
      "There are 10 patients of blood type AB.\n",
      "There are 12 patients of blood type O.\n",
      "There are no patients of blood type OO.\n"
     ]
    }
   ],
   "source": [
    "def bldcount():\n",
    "    infile = open('C:/Users/dangi/bloodtype1.txt','r')\n",
    "    data=infile.read()\n",
    "    finalData=data.split()\n",
    "    bloodCountA(finalData.count(\"A\"))          #each function will count the value of patients on the basis of bloodgroups.\n",
    "    bloodCountB(finalData.count(\"B\"))          #if, elif, else will trigger on the basis of count of the patients.\n",
    "    bloodCountAB(finalData.count(\"AB\"))\n",
    "    bloodCountO(finalData.count(\"O\"))\n",
    "    bloodCountOO(finalData.count(\"OO\"))\n",
    "    infile.close()\n",
    "def bloodCountA(countA):\n",
    "         if(countA==0):\n",
    "            print('There are no patients of blood type A.')\n",
    "         elif(countA==1):\n",
    "            print(\"There is one patient of blood type A.\")\n",
    "         else:\n",
    "            print(\"There are \" + str(countA) + \" patients of blood type A.\")\n",
    "def bloodCountB(countB):\n",
    "         if(countB==0):\n",
    "            print('There are no patients of blood type B.')\n",
    "         elif(countB==1):\n",
    "            print(\"There is one patient of blood type B.\")\n",
    "         else:\n",
    "            print(\"There are \" + str(countB) + \" patients of blood type B.\")\n",
    "def bloodCountAB(countAB):\n",
    "         if(countAB==0):\n",
    "            print('There are no patients of blood type AB.')\n",
    "         elif(countAB==1):\n",
    "            print(\"There is one patient of blood type AB.\")\n",
    "         else:\n",
    "            print(\"There are \" + str(countAB) + \" patients of blood type AB.\")\n",
    "def bloodCountO(countO):\n",
    "         if(countO==0):\n",
    "            print('There are no patients of blood type O.')\n",
    "         elif(countO==1):\n",
    "            print(\"There is one patient of blood type O.\")\n",
    "         else:\n",
    "            print(\"There are \" + str(countO) + \" patients of blood type O.\")\n",
    "def bloodCountOO(countOO):\n",
    "         if(countOO==0):\n",
    "            print('There are no patients of blood type OO.')\n",
    "         elif(countOO==1):\n",
    "            print(\"There is one patient of blood type OO.\")\n",
    "         else:\n",
    "            print(\"There are \" + str(countOO) + \" patients of blood type OO.\")\n",
    "            \n",
    "            \n",
    "bldcount()     # calling the final funcion."
   ]
  },
  {
   "cell_type": "markdown",
   "id": "ece49398",
   "metadata": {},
   "source": [
    "# Question 8 Python"
   ]
  },
  {
   "cell_type": "markdown",
   "id": "6c3bae50",
   "metadata": {},
   "source": [
    "Write a function curconv() that takes as input:\n",
    "1. a currency represented using a string (e.g., 'JPY' for the Japanese Yen or \n",
    "'EUR' for the Euro)\n",
    "2. an amount\n",
    "and then converts and returns the amount in US dollars."
   ]
  },
  {
   "cell_type": "code",
   "execution_count": 5,
   "id": "67b4e35d",
   "metadata": {},
   "outputs": [
    {
     "name": "stdout",
     "output_type": "stream",
     "text": [
      "Enter the currency :eur\n",
      "Enter the currency :jpy\n"
     ]
    }
   ],
   "source": [
    "currencyEUR= input('Enter the currency :')    ## input for the Euro currency\n",
    "currencyJPY= input('Enter the currency :')    ## input for Japanese currency"
   ]
  },
  {
   "cell_type": "code",
   "execution_count": 8,
   "id": "09ec16fd",
   "metadata": {},
   "outputs": [
    {
     "name": "stdout",
     "output_type": "stream",
     "text": [
      "Your converted currency in US dollars from EUR : 122.96544\n",
      "Your converted currency in US dollars from JPY : 1.241401\n"
     ]
    }
   ],
   "source": [
    "def curconv(curr,conv):             # function which takes 2 args one as a currency rate and other as exchange value\n",
    "    infile=open('C:/Users/dangi/currencies.txt')\n",
    "    data= infile.read()\n",
    "    finalData=data.split()         # splitting values with ,\n",
    "    #print(data)\n",
    "    #print(finalData)\n",
    "    infile.close()\n",
    "    if(curr in finalData):\n",
    "        pos = finalData.index(curr) + 1       # finding the next position(index) of the required currency\n",
    "        conv = float(finalData[pos]) * conv   # Accessing that value at particular index and converting to USD\n",
    "        print('Your converted currency in US dollars from ' + curr + ' : ' + str(conv))\n",
    "        \n",
    "curconv(currencyEUR.upper(),100) \n",
    "curconv(currencyJPY.upper(),100)"
   ]
  },
  {
   "cell_type": "markdown",
   "id": "dfb5a6eb",
   "metadata": {},
   "source": [
    "# Question 9 Python"
   ]
  },
  {
   "cell_type": "markdown",
   "id": "add10fd0",
   "metadata": {},
   "source": [
    "Each of the following will cause an exception (an error). Identify what type of \n",
    "exception each will cause."
   ]
  },
  {
   "cell_type": "code",
   "execution_count": null,
   "id": "8bbb637b",
   "metadata": {},
   "outputs": [],
   "source": [
    "1: Trying to add incompatible variables, as in adding 6 + ‘a’ \n",
    "   Ans : TypeError\n",
    "\n",
    "2: Referring to the 12th item of a list that has only 10 items\n",
    "   Ans : IndexError, list index out of range\n",
    "    \n",
    "3: Using a value that is out of range for a function’s input, such as calling math.sqrt(-1.0)\n",
    "   Ans : ValueError\n",
    "\n",
    "4: Using an undeclared variable, such as print(x) when x has not been defined \n",
    "   Ans : NameError, 'x' is not defined\n",
    "    \n",
    "5: Trying to open a file that does not exist, such as mistyping the file name or looking in the wrong directory.  \n",
    "   Ans : FileNotFoundError"
   ]
  },
  {
   "cell_type": "markdown",
   "id": "a715f5e7",
   "metadata": {},
   "source": [
    "# Question 10 "
   ]
  },
  {
   "cell_type": "markdown",
   "id": "253846e1",
   "metadata": {},
   "source": [
    "Encryption is the process of hiding the meaning of a text by substituting letters in the \n",
    "message with other letters, according to some system. If the process is successful, no \n",
    "one but the intended recipient can understand the encrypted message. Cryptanalysis\n",
    "refers to attempts to undo the encryption, even if some details of the encryption are \n",
    "unknown (for example, if an encrypted message has been intercepted). The first step \n",
    "of cryptanalysis is often to build up a table of letter frequencies in the encrypted text. \n",
    "Assume that the string letters is already defined as \n",
    "'abcdefghijklmnopqrstuvwxyz'. Write a function called frequencies()\n",
    "that takes a string as its only parameter, and returns a list of integers, showing the \n",
    "number of times each character appears in the text. Your function may ignore any \n",
    "characters that are not in letters. \n",
    ">>> frequencies('The quick red fox got bored and went home.')\n",
    "[1, 1, 1, 3, 5, 1, 1, 2, 1, 0, 1, 0, 1, 2, 4, 0, 1, 2, 0, 2, \n",
    "1, 0, 1, 1, 0, 0]\n",
    ">>> frequencies('apple')"
   ]
  },
  {
   "cell_type": "code",
   "execution_count": 10,
   "id": "e1917283",
   "metadata": {},
   "outputs": [
    {
     "name": "stdout",
     "output_type": "stream",
     "text": [
      "1,1,1,3,5,1,1,2,1,0,1,0,1,2,4,0,1,2,0,2,1,0,1,1,0,0,\n",
      "\n",
      "1,0,0,0,1,0,0,0,0,0,0,1,0,0,0,2,0,0,0,0,0,0,0,0,0,0,"
     ]
    }
   ],
   "source": [
    "def frequencies(sentence):\n",
    "    lst=['a','b','c','d','e','f','g','h','i','j','k','l','m','n','o','p','q','r','s','t','u','v','w','x','y','z']\n",
    "    inputWord= sentence\n",
    "    Length_lst=len(lst)     # couting length of a list\n",
    "    for i in range(0,Length_lst):       # range has been set till the lenth of a list\n",
    "        data= inputWord.count(lst[i])   # couning each occurance of a letter from a sentence on the basis of a list\n",
    "        lst1 = str(data)\n",
    "        print(lst1,end= \",\" )\n",
    "frequencies('The quick red fox got bored and went home.')\n",
    "print(\"\\n\")\n",
    "frequencies('apple')"
   ]
  },
  {
   "cell_type": "code",
   "execution_count": null,
   "id": "bc812579",
   "metadata": {},
   "outputs": [],
   "source": []
  }
 ],
 "metadata": {
  "kernelspec": {
   "display_name": "Python 3 (ipykernel)",
   "language": "python",
   "name": "python3"
  },
  "language_info": {
   "codemirror_mode": {
    "name": "ipython",
    "version": 3
   },
   "file_extension": ".py",
   "mimetype": "text/x-python",
   "name": "python",
   "nbconvert_exporter": "python",
   "pygments_lexer": "ipython3",
   "version": "3.9.7"
  }
 },
 "nbformat": 4,
 "nbformat_minor": 5
}
